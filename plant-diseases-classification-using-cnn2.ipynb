{
 "cells": [
  {
   "cell_type": "markdown",
   "metadata": {},
   "source": [
    "## Import Used Libraries"
   ]
  },
  {
   "cell_type": "code",
   "execution_count": 1,
   "metadata": {
    "execution": {
     "iopub.execute_input": "2022-11-15T21:35:30.863782Z",
     "iopub.status.busy": "2022-11-15T21:35:30.863336Z",
     "iopub.status.idle": "2022-11-15T21:35:40.652613Z",
     "shell.execute_reply": "2022-11-15T21:35:40.651488Z",
     "shell.execute_reply.started": "2022-11-15T21:35:30.863699Z"
    }
   },
   "outputs": [],
   "source": [
    "import numpy as np\n",
    "import pandas as pd \n",
    "import seaborn as sns \n",
    "import matplotlib.pyplot as plt\n",
    "import os\n",
    "import tensorflow\n",
    "import tensorflow as tf\n",
    "from tensorflow.keras.applications import ResNet50\n",
    "from tensorflow import keras\n",
    "from tensorflow.keras.applications.resnet50 import preprocess_input\n",
    "from keras.models import Sequential,load_model,Model\n",
    "from keras.layers import Conv2D,MaxPool2D,AveragePooling2D,Dense,Flatten,ZeroPadding2D,BatchNormalization,Activation,Add,Input,Dropout,GlobalAveragePooling2D\n",
    "from keras.initializers import glorot_uniform\n",
    "from keras.preprocessing.image import ImageDataGenerator\n",
    "from keras.callbacks import ModelCheckpoint,EarlyStopping,ReduceLROnPlateau\n",
    "import warnings\n",
    "warnings.filterwarnings(action='ignore')"
   ]
  },
  {
   "cell_type": "markdown",
   "metadata": {},
   "source": [
    "## Loading Images File"
   ]
  },
  {
   "cell_type": "code",
   "execution_count": 2,
   "metadata": {
    "execution": {
     "iopub.execute_input": "2022-11-15T21:35:40.655558Z",
     "iopub.status.busy": "2022-11-15T21:35:40.654842Z",
     "iopub.status.idle": "2022-11-15T21:35:40.664726Z",
     "shell.execute_reply": "2022-11-15T21:35:40.663389Z",
     "shell.execute_reply.started": "2022-11-15T21:35:40.655529Z"
    }
   },
   "outputs": [],
   "source": [
    "data_dir = \"../input/new-plant-diseases-dataset/New Plant Diseases Dataset(Augmented)/New Plant Diseases Dataset(Augmented)\"\n",
    "train_dir = data_dir + \"/train\"\n",
    "valid_dir = data_dir + \"/valid\""
   ]
  },
  {
   "cell_type": "markdown",
   "metadata": {},
   "source": [
    "## Preparing Images For Training By Image Preprocessing"
   ]
  },
  {
   "cell_type": "code",
   "execution_count": 3,
   "metadata": {
    "execution": {
     "iopub.execute_input": "2022-11-15T21:35:40.666120Z",
     "iopub.status.busy": "2022-11-15T21:35:40.665881Z",
     "iopub.status.idle": "2022-11-15T21:36:14.756679Z",
     "shell.execute_reply": "2022-11-15T21:36:14.755261Z",
     "shell.execute_reply.started": "2022-11-15T21:35:40.666096Z"
    }
   },
   "outputs": [
    {
     "name": "stdout",
     "output_type": "stream",
     "text": [
      "Found 70295 images belonging to 38 classes.\n",
      "Found 17572 images belonging to 38 classes.\n"
     ]
    }
   ],
   "source": [
    "train_datagen= ImageDataGenerator(\n",
    "    rotation_range=25,\n",
    "    width_shift_range=0.2,\n",
    "    height_shift_range=0.2,\n",
    "    shear_range=0.2,\n",
    "    zoom_range=0.2,\n",
    "    horizontal_flip=True,\n",
    "    rescale=1/255.0,\n",
    "    fill_mode='nearest',\n",
    "    validation_split=0.1)\n",
    "val_datagen= ImageDataGenerator(\n",
    "    rotation_range=25,\n",
    "    width_shift_range=0.2,\n",
    "    height_shift_range=0.2,\n",
    "    shear_range=0.2,\n",
    "    zoom_range=0.2,\n",
    "    fill_mode='nearest',\n",
    "    horizontal_flip=True,\n",
    "    rescale=1/255.0,\n",
    "    validation_split=0.1)\n",
    "train= train_datagen.flow_from_directory(train_dir,batch_size=128,target_size=(210,210),color_mode='rgb',class_mode='categorical',seed=42)\n",
    "valid=val_datagen.flow_from_directory(valid_dir,batch_size=128,target_size=(210,210),color_mode='rgb',class_mode='categorical')"
   ]
  },
  {
   "cell_type": "markdown",
   "metadata": {},
   "source": [
    "## Model 2"
   ]
  },
  {
   "cell_type": "code",
   "execution_count": 4,
   "metadata": {
    "execution": {
     "iopub.execute_input": "2022-11-15T21:36:14.759254Z",
     "iopub.status.busy": "2022-11-15T21:36:14.758939Z",
     "iopub.status.idle": "2022-11-15T21:36:15.151531Z",
     "shell.execute_reply": "2022-11-15T21:36:15.149999Z",
     "shell.execute_reply.started": "2022-11-15T21:36:14.759223Z"
    }
   },
   "outputs": [
    {
     "name": "stderr",
     "output_type": "stream",
     "text": [
      "2022-11-15 21:36:14.816129: I tensorflow/core/common_runtime/process_util.cc:146] Creating new thread pool with default inter op setting: 2. Tune using inter_op_parallelism_threads for best performance.\n"
     ]
    },
    {
     "name": "stdout",
     "output_type": "stream",
     "text": [
      "Model: \"sequential\"\n",
      "_________________________________________________________________\n",
      "Layer (type)                 Output Shape              Param #   \n",
      "=================================================================\n",
      "conv2d (Conv2D)              (None, 210, 210, 32)      896       \n",
      "_________________________________________________________________\n",
      "batch_normalization (BatchNo (None, 210, 210, 32)      128       \n",
      "_________________________________________________________________\n",
      "max_pooling2d (MaxPooling2D) (None, 105, 105, 32)      0         \n",
      "_________________________________________________________________\n",
      "conv2d_1 (Conv2D)            (None, 105, 105, 64)      18496     \n",
      "_________________________________________________________________\n",
      "max_pooling2d_1 (MaxPooling2 (None, 52, 52, 64)        0         \n",
      "_________________________________________________________________\n",
      "batch_normalization_1 (Batch (None, 52, 52, 64)        256       \n",
      "_________________________________________________________________\n",
      "conv2d_2 (Conv2D)            (None, 52, 52, 128)       73856     \n",
      "_________________________________________________________________\n",
      "max_pooling2d_2 (MaxPooling2 (None, 26, 26, 128)       0         \n",
      "_________________________________________________________________\n",
      "batch_normalization_2 (Batch (None, 26, 26, 128)       512       \n",
      "_________________________________________________________________\n",
      "flatten (Flatten)            (None, 86528)             0         \n",
      "_________________________________________________________________\n",
      "dense (Dense)                (None, 256)               22151424  \n",
      "_________________________________________________________________\n",
      "dense_1 (Dense)              (None, 38)                9766      \n",
      "=================================================================\n",
      "Total params: 22,255,334\n",
      "Trainable params: 22,254,886\n",
      "Non-trainable params: 448\n",
      "_________________________________________________________________\n"
     ]
    }
   ],
   "source": [
    "model = keras.Sequential()\n",
    "model.add(keras.layers.Conv2D(32,3,activation=\"relu\",padding=\"same\",input_shape=(210,210,3)))\n",
    "model.add(BatchNormalization())\n",
    "model.add(keras.layers.MaxPooling2D())\n",
    "model.add(keras.layers.Conv2D(64,3,activation=\"relu\",padding=\"same\"))\n",
    "model.add(keras.layers.MaxPooling2D())\n",
    "model.add(BatchNormalization())\n",
    "model.add(keras.layers.Conv2D(128,3,activation=\"relu\",padding=\"same\"))\n",
    "model.add(keras.layers.MaxPooling2D())\n",
    "model.add(BatchNormalization())\n",
    "\n",
    "model.add(keras.layers.Flatten())\n",
    "\n",
    "model.add(keras.layers.Dense(256,activation=\"relu\"))\n",
    "model.add(keras.layers.Dense(38,activation=\"softmax\"))\n",
    "\n",
    "model.summary()"
   ]
  },
  {
   "cell_type": "code",
   "execution_count": 5,
   "metadata": {
    "execution": {
     "iopub.execute_input": "2022-11-15T21:36:15.153660Z",
     "iopub.status.busy": "2022-11-15T21:36:15.153178Z",
     "iopub.status.idle": "2022-11-16T05:53:28.062764Z",
     "shell.execute_reply": "2022-11-16T05:53:28.061011Z",
     "shell.execute_reply.started": "2022-11-15T21:36:15.153625Z"
    }
   },
   "outputs": [
    {
     "name": "stderr",
     "output_type": "stream",
     "text": [
      "2022-11-15 21:36:17.563957: I tensorflow/compiler/mlir/mlir_graph_optimization_pass.cc:185] None of the MLIR Optimization Passes are enabled (registered 2)\n"
     ]
    },
    {
     "name": "stdout",
     "output_type": "stream",
     "text": [
      "Epoch 1/6\n",
      "550/550 [==============================] - 4939s 9s/step - loss: 2.2142 - accuracy: 0.4193 - val_loss: 5.0626 - val_accuracy: 0.2623\n",
      "Epoch 2/6\n",
      "550/550 [==============================] - 5185s 9s/step - loss: 0.8997 - accuracy: 0.7256 - val_loss: 1.6996 - val_accuracy: 0.5810\n",
      "Epoch 3/6\n",
      "550/550 [==============================] - 4826s 9s/step - loss: 0.5399 - accuracy: 0.8320 - val_loss: 0.6648 - val_accuracy: 0.8004\n",
      "Epoch 4/6\n",
      "550/550 [==============================] - 4721s 9s/step - loss: 0.3988 - accuracy: 0.8745 - val_loss: 0.4948 - val_accuracy: 0.8581\n",
      "Epoch 5/6\n",
      "550/550 [==============================] - 5043s 9s/step - loss: 0.3206 - accuracy: 0.8984 - val_loss: 1.0540 - val_accuracy: 0.7259\n",
      "Epoch 6/6\n",
      "550/550 [==============================] - 4944s 9s/step - loss: 0.2840 - accuracy: 0.9109 - val_loss: 0.5372 - val_accuracy: 0.8518\n"
     ]
    }
   ],
   "source": [
    "model.compile(optimizer='adam',loss='categorical_crossentropy', metrics=['accuracy'])\n",
    "history = model.fit_generator(train,validation_data=valid,epochs = 6)"
   ]
  },
  {
   "cell_type": "code",
   "execution_count": 6,
   "metadata": {
    "execution": {
     "iopub.execute_input": "2022-11-16T05:53:28.069256Z",
     "iopub.status.busy": "2022-11-16T05:53:28.068838Z",
     "iopub.status.idle": "2022-11-16T05:53:28.302893Z",
     "shell.execute_reply": "2022-11-16T05:53:28.301369Z",
     "shell.execute_reply.started": "2022-11-16T05:53:28.069220Z"
    }
   },
   "outputs": [
    {
     "data": {
      "text/plain": [
       "<matplotlib.legend.Legend at 0x7f7a091e24d0>"
      ]
     },
     "execution_count": 6,
     "metadata": {},
     "output_type": "execute_result"
    },
    {
     "data": {
      "image/png": "[encoded data removed]",
      "text/plain": [
       "<Figure size 720x432 with 1 Axes>"
      ]
     },
     "metadata": {
      "needs_background": "light"
     },
     "output_type": "display_data"
    }
   ],
   "source": [
    "acc =history.history['loss']\n",
    "val_acc =history.history['val_loss']\n",
    "epochs = range(len(acc))\n",
    "fig = plt.figure(figsize=(10,6))\n",
    "plt.plot(epochs,acc,c=\"red\",label=\"Training\")\n",
    "plt.plot(epochs,val_acc,c=\"blue\",label=\"Validation\")\n",
    "plt.xlabel(\"Epochs\")\n",
    "plt.ylabel(\"Accuracy\")\n",
    "plt.legend()"
   ]
  },
  {
   "cell_type": "code",
   "execution_count": 7,
   "metadata": {
    "execution": {
     "iopub.execute_input": "2022-11-16T05:53:28.304915Z",
     "iopub.status.busy": "2022-11-16T05:53:28.304585Z",
     "iopub.status.idle": "2022-11-16T05:53:28.515671Z",
     "shell.execute_reply": "2022-11-16T05:53:28.514419Z",
     "shell.execute_reply.started": "2022-11-16T05:53:28.304888Z"
    }
   },
   "outputs": [
    {
     "data": {
      "text/plain": [
       "<matplotlib.legend.Legend at 0x7f7a090c6d90>"
      ]
     },
     "execution_count": 7,
     "metadata": {},
     "output_type": "execute_result"
    },
    {
     "data": {
      "image/png": "[encoded data removed]",
      "text/plain": [
       "<Figure size 720x432 with 1 Axes>"
      ]
     },
     "metadata": {
      "needs_background": "light"
     },
     "output_type": "display_data"
    }
   ],
   "source": [
    "acc =history.history['accuracy']\n",
    "val_acc =history.history['val_accuracy']\n",
    "epochs = range(len(acc))\n",
    "fig = plt.figure(figsize=(10,6))\n",
    "plt.plot(epochs,acc,c=\"red\",label=\"Training\")\n",
    "plt.plot(epochs,val_acc,c=\"blue\",label=\"Validation\")\n",
    "plt.xlabel(\"Epochs\")\n",
    "plt.ylabel(\"Accuracy\")\n",
    "plt.legend()"
   ]
  },
  {
   "cell_type": "code",
   "execution_count": 8,
   "metadata": {
    "execution": {
     "iopub.execute_input": "2022-11-16T05:53:28.517916Z",
     "iopub.status.busy": "2022-11-16T05:53:28.516678Z",
     "iopub.status.idle": "2022-11-16T05:53:28.861352Z",
     "shell.execute_reply": "2022-11-16T05:53:28.860068Z",
     "shell.execute_reply.started": "2022-11-16T05:53:28.517855Z"
    }
   },
   "outputs": [],
   "source": [
    "model.save(\"model1.h5\")"
   ]
  }
 ],
 "metadata": {
  "kernelspec": {
   "display_name": "Python 3 (ipykernel)",
   "language": "python",
   "name": "python3"
  },
  "language_info": {
   "codemirror_mode": {
    "name": "ipython",
    "version": 3
   },
   "file_extension": ".py",
   "mimetype": "text/x-python",
   "name": "python",
   "nbconvert_exporter": "python",
   "pygments_lexer": "ipython3",
   "version": "3.9.7"
  }
 },
 "nbformat": 4,
 "nbformat_minor": 4
}
