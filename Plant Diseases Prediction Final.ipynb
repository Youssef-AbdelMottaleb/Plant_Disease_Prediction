{
 "cells": [
  {
   "cell_type": "code",
   "execution_count": null,
   "id": "6b4354cf",
   "metadata": {},
   "outputs": [
    {
     "name": "stdout",
     "output_type": "stream",
     "text": [
      " * Serving Flask app \"__main__\" (lazy loading)\n",
      " * Environment: production\n",
      "\u001b[31m   WARNING: This is a development server. Do not use it in a production deployment.\u001b[0m\n",
      "\u001b[2m   Use a production WSGI server instead.\u001b[0m\n",
      " * Debug mode: off\n"
     ]
    },
    {
     "name": "stderr",
     "output_type": "stream",
     "text": [
      " * Running on http://127.0.0.1:5000/ (Press CTRL+C to quit)\n",
      "127.0.0.1 - - [16/Nov/2022 21:06:53] \"GET / HTTP/1.1\" 200 -\n",
      "127.0.0.1 - - [16/Nov/2022 21:06:53] \"GET /myimg1.jpg HTTP/1.1\" 404 -\n",
      "127.0.0.1 - - [16/Nov/2022 21:06:55] \"POST /ProcessUserinfo/$%7BJSON.stringify(userImage)%7D HTTP/1.1\" 404 -\n"
     ]
    },
    {
     "name": "stdout",
     "output_type": "stream",
     "text": [
      "ImmutableMultiDict([('file', <FileStorage: '0b8dabb7-5f1b-4fdc-b3fa-30b289707b90___JR_FrgE.S 3047_90deg.JPG' ('image/jpeg')>)])\n",
      "1/1 [==============================] - 1s 909ms/step\n"
     ]
    },
    {
     "name": "stderr",
     "output_type": "stream",
     "text": [
      "127.0.0.1 - - [16/Nov/2022 21:07:13] \"POST /submit HTTP/1.1\" 200 -\n",
      "127.0.0.1 - - [16/Nov/2022 21:07:13] \"GET /myimg1.jpg HTTP/1.1\" 404 -\n"
     ]
    },
    {
     "name": "stdout",
     "output_type": "stream",
     "text": [
      "[[2.6252279e-02 2.8671348e-03 1.6329713e-01 3.9605587e-04 9.2805113e-04\n",
      "  4.1070985e-04 5.1673185e-05 1.5992278e-04 3.5674442e-02 2.1506208e-05\n",
      "  2.6737470e-03 3.8862740e-06 3.3238637e-05 7.8681443e-04 4.2185951e-03\n",
      "  1.2032332e-04 1.3129942e-03 4.2808481e-02 1.0353212e-05 4.5658826e-04\n",
      "  1.5060825e-04 7.8237028e-04 3.2415020e-03 2.1229863e-02 3.3018098e-06\n",
      "  1.5390232e-04 1.9738209e-03 3.5747598e-04 8.5078409e-07 4.3994081e-03\n",
      "  5.4850090e-01 2.6192528e-04 5.8853242e-04 3.5713423e-05 1.6046391e-04\n",
      "  1.1367223e-05 1.3466956e-01 9.9443132e-04]]\n",
      "30\n",
      "AAAAAAAAAAA\n"
     ]
    },
    {
     "name": "stderr",
     "output_type": "stream",
     "text": [
      "127.0.0.1 - - [16/Nov/2022 21:07:21] \"POST /ProcessUserinfo/$%7BJSON.stringify(userImage)%7D HTTP/1.1\" 404 -\n"
     ]
    },
    {
     "name": "stdout",
     "output_type": "stream",
     "text": [
      "ImmutableMultiDict([('file', <FileStorage: '0a5e9323-dbad-432d-ac58-d291718345d9___FREC_Scab 3417_new30degFlipLR.JPG' ('image/jpeg')>)])\n",
      "1/1 [==============================] - 0s 113ms/step\n"
     ]
    },
    {
     "name": "stderr",
     "output_type": "stream",
     "text": [
      "127.0.0.1 - - [16/Nov/2022 21:07:31] \"POST /submit HTTP/1.1\" 200 -\n",
      "127.0.0.1 - - [16/Nov/2022 21:07:31] \"GET /myimg1.jpg HTTP/1.1\" 404 -\n"
     ]
    },
    {
     "name": "stdout",
     "output_type": "stream",
     "text": [
      "[[2.7627047e-02 4.1129896e-03 1.6609401e-01 5.5117143e-04 1.3897739e-03\n",
      "  4.8453890e-04 8.7216467e-05 2.3848419e-04 3.9188083e-02 2.5315443e-05\n",
      "  3.5961906e-03 6.6313683e-06 5.5416378e-05 9.8356674e-04 4.3636733e-03\n",
      "  1.6192267e-04 1.8399338e-03 5.1414210e-02 1.5390833e-05 6.3653791e-04\n",
      "  2.1316063e-04 6.5117696e-04 2.8256853e-03 2.2496963e-02 5.3295616e-06\n",
      "  1.7788052e-04 2.4435096e-03 4.8414446e-04 1.0781972e-06 5.8639473e-03\n",
      "  5.1462579e-01 3.8313627e-04 7.7741081e-04 4.0434214e-05 2.2362616e-04\n",
      "  1.2085519e-05 1.4429533e-01 1.6071284e-03]]\n",
      "30\n",
      "AAAAAAAAAAA\n"
     ]
    },
    {
     "name": "stderr",
     "output_type": "stream",
     "text": [
      "127.0.0.1 - - [16/Nov/2022 21:07:33] \"POST /ProcessUserinfo/$%7BJSON.stringify(userImage)%7D HTTP/1.1\" 404 -\n"
     ]
    },
    {
     "name": "stdout",
     "output_type": "stream",
     "text": [
      "ImmutableMultiDict([('file', <FileStorage: '0b1e31fa-cbc0-41ed-9139-c794e6855e82___FREC_Scab 3089.JPG' ('image/jpeg')>)])\n",
      "1/1 [==============================] - 0s 99ms/step\n"
     ]
    },
    {
     "name": "stderr",
     "output_type": "stream",
     "text": [
      "127.0.0.1 - - [16/Nov/2022 21:07:37] \"POST /submit HTTP/1.1\" 200 -\n",
      "127.0.0.1 - - [16/Nov/2022 21:07:37] \"GET /myimg1.jpg HTTP/1.1\" 404 -\n"
     ]
    },
    {
     "name": "stdout",
     "output_type": "stream",
     "text": [
      "[[2.79701613e-02 4.28441027e-03 1.73410147e-01 5.91693912e-04\n",
      "  1.29054266e-03 4.60506795e-04 7.98466936e-05 2.04259413e-04\n",
      "  3.82557698e-02 2.39952533e-05 3.00853280e-03 7.39607503e-06\n",
      "  5.63256690e-05 9.70029563e-04 4.93232999e-03 1.60303491e-04\n",
      "  1.83930539e-03 5.45193069e-02 1.59073224e-05 6.08211674e-04\n",
      "  2.09094811e-04 7.50348903e-04 3.10843275e-03 2.35790592e-02\n",
      "  5.50078494e-06 1.70994535e-04 2.21344805e-03 4.60265757e-04\n",
      "  1.17544232e-06 5.95666468e-03 5.05721748e-01 3.28602997e-04\n",
      "  7.68232276e-04 4.32165070e-05 2.50776822e-04 1.24373355e-05\n",
      "  1.42098323e-01 1.63265702e-03]]\n",
      "30\n",
      "AAAAAAAAAAA\n"
     ]
    },
    {
     "name": "stderr",
     "output_type": "stream",
     "text": [
      "127.0.0.1 - - [16/Nov/2022 21:07:40] \"POST /ProcessUserinfo/$%7BJSON.stringify(userImage)%7D HTTP/1.1\" 404 -\n"
     ]
    },
    {
     "name": "stdout",
     "output_type": "stream",
     "text": [
      "ImmutableMultiDict([('file', <FileStorage: '0a5e9323-dbad-432d-ac58-d291718345d9___FREC_Scab 3417.JPG' ('image/jpeg')>)])\n",
      "1/1 [==============================] - 0s 104ms/step\n"
     ]
    },
    {
     "name": "stderr",
     "output_type": "stream",
     "text": [
      "127.0.0.1 - - [16/Nov/2022 21:07:43] \"POST /submit HTTP/1.1\" 200 -\n",
      "127.0.0.1 - - [16/Nov/2022 21:07:43] \"GET /myimg1.jpg HTTP/1.1\" 404 -\n"
     ]
    },
    {
     "name": "stdout",
     "output_type": "stream",
     "text": [
      "[[2.26764269e-02 3.40912654e-03 1.74189925e-01 5.04243886e-04\n",
      "  1.39014702e-03 4.44425124e-04 7.14966300e-05 1.71865991e-04\n",
      "  3.45726907e-02 2.27941910e-05 2.90375762e-03 4.76587138e-06\n",
      "  4.47171333e-05 9.46038577e-04 4.76622628e-03 1.50440654e-04\n",
      "  1.56062061e-03 6.16961457e-02 1.03427865e-05 5.38293738e-04\n",
      "  1.66169979e-04 7.29146355e-04 3.64995864e-03 2.49466877e-02\n",
      "  4.89559534e-06 1.81990268e-04 1.97335682e-03 4.30283573e-04\n",
      "  8.92674564e-07 4.78363782e-03 4.69597042e-01 2.87502306e-04\n",
      "  5.89696516e-04 3.94158669e-05 1.90468490e-04 1.09007751e-05\n",
      "  1.81019798e-01 1.32378703e-03]]\n",
      "30\n",
      "AAAAAAAAAAA\n"
     ]
    },
    {
     "name": "stderr",
     "output_type": "stream",
     "text": [
      "127.0.0.1 - - [16/Nov/2022 21:07:51] \"POST /ProcessUserinfo/$%7BJSON.stringify(userImage)%7D HTTP/1.1\" 404 -\n"
     ]
    }
   ],
   "source": [
    "from flask import Flask, render_template, request\n",
    "from keras.models import load_model\n",
    "from keras.preprocessing import image\n",
    "import numpy as np\n",
    "\n",
    "app = Flask(__name__)\n",
    "\n",
    "dic = {0:'Apple_scab', 1:'Apple_Black_rot', 2:'Cedar_apple_rust', \n",
    "         3:'Apple_healthy',4: 'Blueberry_healthy', \n",
    "        5: 'Cherry_Powdery_mildew', 6:'Cherry_healthy', \n",
    "         7:'Corn_Cercospora_leaf_spot', 8:'Corn_Common_rust_', \n",
    "         9:'Corn_Northern_Leaf_Blight',10: 'Corn_healthy', \n",
    "         11:'Grape_Black_rot', 12:'Grape_Black_Measles', \n",
    "         13:'Grape_Leaf_blight', 14:'Grape_healthy', \n",
    "         15:'Orange_Haunglongbing', 16:'Peach_Bacterial_spot', \n",
    "         17:'Peach_healthy',18: 'Pepper,_bell_Bacterial_spot', 19:'Pepper,_bell_healthy', \n",
    "         20:'Potato_Early_blight', 21:'Potato_Late_blight',22: 'Potato_healthy', \n",
    "         23:'Raspberry_healthy',24: 'Soybean_healthy',25: 'Squash_Powdery_mildew', \n",
    "         26:'Strawberry_Leaf_scorch', 27:'Strawberry_healthy', 28:'Tomato_Bacterial_spot', \n",
    "         29:'Tomato_Early_blight', 30:'Tomato_Late_blight',31: 'Tomato_Leaf_Mold', \n",
    "         32:'Tomato_Septoria_leaf_spot', 33:'Tomato_Spider_mites Two-spotted_spider_mite', \n",
    "         34:'Tomato_Target_Spot', 35:'Tomato_Tomato_Yellow_Leaf_Curl_Virus', \n",
    "        36: 'Tomato_Tomato_mosaic_virus', 37:'Tomato_healthy'}\n",
    "\n",
    "model = load_model('model_main.h5')\n",
    "\n",
    "model.make_predict_function()\n",
    "\n",
    "def predict_label(img_path):\n",
    "    i=image.image_utils.load_img(img_path, target_size=(230,230))\n",
    "    #i = image.load_img(img_path, target_size=(100,100))\n",
    "    #i = image.img_to_array(i)/255.0\n",
    "    i=image.image_utils.img_to_array(i)/255.0\n",
    "    i = i.reshape(1, 230,230,3)\n",
    "    p = model.predict(i)\n",
    "    print(p)\n",
    "    max_value = np.argmax(p)\n",
    "    print(max_value)\n",
    "    return dic[round( max(p[0]))]\n",
    "\n",
    "#    i=image.image_utils.load_img(img_path,target_size=(230,230))\n",
    " #   i=image.image_utils.img_to_array(i)\n",
    "  #  test_image = np.expand_dims(i,axis=0)\n",
    "   # test_image = test_image.reshape(1,230,230,3)\n",
    "    #predictions = np.argmax(model.predict(test_image), axis =1)\n",
    "    #return dic[predictions]\n",
    "    \n",
    "\n",
    "\n",
    "# routes\n",
    "@app.route(\"/\", methods=['GET', 'POST'])\n",
    "def main():\n",
    "    return render_template(\"predcit.html\")\n",
    "\n",
    "@app.route(\"/about\")\n",
    "def about_page():\n",
    "    return \"HI Man >:\"\n",
    "\n",
    "@app.route(\"/submit\", methods = ['GET', 'POST'])\n",
    "def get_output():\n",
    "    if request.method == 'POST':\n",
    "        #print(request.files)\n",
    "        img = request.files['file']\n",
    "\n",
    "        img_path = \"static/\" + img.filename\n",
    "        print(request.files)\n",
    "        img.save(img_path)\n",
    "\n",
    "        p = predict_label(img_path)\n",
    "        print(\"AAAAAAAAAAA\")\n",
    "        return render_template(\"predcit.html\", prediction = p, img_path = img_path)\n",
    "    return render_template(\"predcit.html\")\n",
    "\n",
    "\n",
    "if __name__ =='__main__':\n",
    "    #app.debug = True\n",
    "    app.run()"
   ]
  },
  {
   "cell_type": "code",
   "execution_count": null,
   "id": "ca5e7095",
   "metadata": {},
   "outputs": [],
   "source": []
  },
  {
   "cell_type": "code",
   "execution_count": null,
   "id": "69c577b8",
   "metadata": {},
   "outputs": [],
   "source": []
  },
  {
   "cell_type": "code",
   "execution_count": null,
   "id": "8503d33e",
   "metadata": {},
   "outputs": [],
   "source": []
  },
  {
   "cell_type": "code",
   "execution_count": null,
   "id": "8673a418",
   "metadata": {},
   "outputs": [],
   "source": []
  }
 ],
 "metadata": {
  "kernelspec": {
   "display_name": "Python 3 (ipykernel)",
   "language": "python",
   "name": "python3"
  },
  "language_info": {
   "codemirror_mode": {
    "name": "ipython",
    "version": 3
   },
   "file_extension": ".py",
   "mimetype": "text/x-python",
   "name": "python",
   "nbconvert_exporter": "python",
   "pygments_lexer": "ipython3",
   "version": "3.9.7"
  }
 },
 "nbformat": 4,
 "nbformat_minor": 5
}
