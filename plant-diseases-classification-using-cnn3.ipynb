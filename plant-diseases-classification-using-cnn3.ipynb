{
 "cells": [
  {
   "cell_type": "markdown",
   "metadata": {},
   "source": [
    "## *Import Used Libraries*"
   ]
  },
  {
   "cell_type": "code",
   "execution_count": 1,
   "metadata": {
    "execution": {
     "iopub.execute_input": "2022-11-15T10:22:30.553538Z",
     "iopub.status.busy": "2022-11-15T10:22:30.553179Z",
     "iopub.status.idle": "2022-11-15T10:22:37.061703Z",
     "shell.execute_reply": "2022-11-15T10:22:37.060223Z",
     "shell.execute_reply.started": "2022-11-15T10:22:30.553468Z"
    }
   },
   "outputs": [],
   "source": [
    "import numpy as np\n",
    "import pandas as pd \n",
    "import seaborn as sns \n",
    "import matplotlib.pyplot as plt\n",
    "import os\n",
    "import tensorflow\n",
    "import tensorflow as tf\n",
    "from tensorflow.keras.applications import ResNet50\n",
    "from tensorflow import keras\n",
    "from tensorflow.keras.applications.resnet50 import preprocess_input\n",
    "from keras.models import Sequential,load_model,Model\n",
    "from keras.layers import Conv2D,MaxPool2D,AveragePooling2D,Dense,Flatten,ZeroPadding2D,BatchNormalization,Activation,Add,Input,Dropout,GlobalAveragePooling2D\n",
    "from keras.initializers import glorot_uniform\n",
    "from keras.preprocessing.image import ImageDataGenerator\n",
    "from keras.callbacks import ModelCheckpoint,EarlyStopping,ReduceLROnPlateau\n",
    "import warnings\n",
    "warnings.filterwarnings(action='ignore')"
   ]
  },
  {
   "cell_type": "markdown",
   "metadata": {},
   "source": [
    "## *Loading Images File*"
   ]
  },
  {
   "cell_type": "code",
   "execution_count": 2,
   "metadata": {
    "execution": {
     "iopub.execute_input": "2022-11-15T10:22:37.064369Z",
     "iopub.status.busy": "2022-11-15T10:22:37.063805Z",
     "iopub.status.idle": "2022-11-15T10:22:37.069726Z",
     "shell.execute_reply": "2022-11-15T10:22:37.068823Z",
     "shell.execute_reply.started": "2022-11-15T10:22:37.064343Z"
    }
   },
   "outputs": [],
   "source": [
    "data_dir = \"../input/new-plant-diseases-dataset/New Plant Diseases Dataset(Augmented)/New Plant Diseases Dataset(Augmented)\"\n",
    "train_dir = data_dir + \"/train\"\n",
    "valid_dir = data_dir + \"/valid\""
   ]
  },
  {
   "cell_type": "markdown",
   "metadata": {},
   "source": [
    "## *Preparing Images For Training By Image Preprocessing*"
   ]
  },
  {
   "cell_type": "code",
   "execution_count": 3,
   "metadata": {
    "execution": {
     "iopub.execute_input": "2022-11-15T10:22:37.071093Z",
     "iopub.status.busy": "2022-11-15T10:22:37.070733Z",
     "iopub.status.idle": "2022-11-15T10:22:37.095041Z",
     "shell.execute_reply": "2022-11-15T10:22:37.094401Z",
     "shell.execute_reply.started": "2022-11-15T10:22:37.070929Z"
    }
   },
   "outputs": [],
   "source": [
    "train_datagen= ImageDataGenerator(shear_range=0.2,zoom_range=0.2,horizontal_flip=False,vertical_flip=False,fill_mode='nearest',width_shift_range=0.2,height_shift_range=0.2)\n",
    "val_datagen=ImageDataGenerator()"
   ]
  },
  {
   "cell_type": "code",
   "execution_count": 4,
   "metadata": {
    "execution": {
     "iopub.execute_input": "2022-11-15T10:22:37.098388Z",
     "iopub.status.busy": "2022-11-15T10:22:37.097493Z",
     "iopub.status.idle": "2022-11-15T10:23:21.067635Z",
     "shell.execute_reply": "2022-11-15T10:23:21.066038Z",
     "shell.execute_reply.started": "2022-11-15T10:22:37.098342Z"
    }
   },
   "outputs": [
    {
     "name": "stdout",
     "output_type": "stream",
     "text": [
      "Found 70295 images belonging to 38 classes.\n",
      "Found 17572 images belonging to 38 classes.\n"
     ]
    }
   ],
   "source": [
    "train= train_datagen.flow_from_directory(train_dir,batch_size=128,target_size=(230,230),color_mode='rgb',class_mode='categorical',seed=42)\n",
    "valid=val_datagen.flow_from_directory(valid_dir,batch_size=128,target_size=(230,230),color_mode='rgb',class_mode='categorical')"
   ]
  },
  {
   "cell_type": "markdown",
   "metadata": {},
   "source": [
    "## *Model1 ResNet50*"
   ]
  },
  {
   "cell_type": "code",
   "execution_count": 5,
   "metadata": {
    "execution": {
     "iopub.execute_input": "2022-11-15T10:23:21.069341Z",
     "iopub.status.busy": "2022-11-15T10:23:21.068853Z",
     "iopub.status.idle": "2022-11-15T10:23:23.216838Z",
     "shell.execute_reply": "2022-11-15T10:23:23.215863Z",
     "shell.execute_reply.started": "2022-11-15T10:23:21.069315Z"
    }
   },
   "outputs": [
    {
     "name": "stderr",
     "output_type": "stream",
     "text": [
      "2022-11-15 10:23:21.133750: I tensorflow/core/common_runtime/process_util.cc:146] Creating new thread pool with default inter op setting: 2. Tune using inter_op_parallelism_threads for best performance.\n"
     ]
    },
    {
     "name": "stdout",
     "output_type": "stream",
     "text": [
      "Downloading data from https://storage.googleapis.com/tensorflow/keras-applications/resnet/resnet50_weights_tf_dim_ordering_tf_kernels_notop.h5\n",
      "94773248/94765736 [==============================] - 0s 0us/step\n",
      "94781440/94765736 [==============================] - 0s 0us/step\n",
      "Model: \"model\"\n",
      "_________________________________________________________________\n",
      "Layer (type)                 Output Shape              Param #   \n",
      "=================================================================\n",
      "input_2 (InputLayer)         [(None, 230, 230, 3)]     0         \n",
      "_________________________________________________________________\n",
      "tf.cast (TFOpLambda)         (None, 230, 230, 3)       0         \n",
      "_________________________________________________________________\n",
      "tf.__operators__.getitem (Sl (None, 230, 230, 3)       0         \n",
      "_________________________________________________________________\n",
      "tf.nn.bias_add (TFOpLambda)  (None, 230, 230, 3)       0         \n",
      "_________________________________________________________________\n",
      "resnet50 (Functional)        (None, 8, 8, 2048)        23587712  \n",
      "_________________________________________________________________\n",
      "global_average_pooling2d (Gl (None, 2048)              0         \n",
      "_________________________________________________________________\n",
      "dense (Dense)                (None, 128)               262272    \n",
      "_________________________________________________________________\n",
      "dense_1 (Dense)              (None, 64)                8256      \n",
      "_________________________________________________________________\n",
      "dense_2 (Dense)              (None, 32)                2080      \n",
      "_________________________________________________________________\n",
      "dense_3 (Dense)              (None, 38)                1254      \n",
      "=================================================================\n",
      "Total params: 23,861,574\n",
      "Trainable params: 273,862\n",
      "Non-trainable params: 23,587,712\n",
      "_________________________________________________________________\n"
     ]
    }
   ],
   "source": [
    "base_model_tf=ResNet50(include_top=False,weights='imagenet',input_shape=(230,230,3),classes=38)\n",
    "base_model_tf.trainable=False\n",
    "pt=Input(shape=(230,230,3))\n",
    "func=tensorflow.cast(pt,tensorflow.float32)\n",
    "x=preprocess_input(func) \n",
    "model_resnet=base_model_tf(x,training=False)\n",
    "model_resnet=GlobalAveragePooling2D()(model_resnet)\n",
    "model_resnet=Dense(128,activation='relu')(model_resnet)\n",
    "model_resnet=Dense(64,activation='relu')(model_resnet)\n",
    "model_resnet=Dense(32,activation='relu')(model_resnet)\n",
    "model_resnet=Dense(38,activation='softmax')(model_resnet)\n",
    "Model_1=Model(inputs=pt,outputs=model_resnet)\n",
    "Model_1.summary()"
   ]
  },
  {
   "cell_type": "code",
   "execution_count": 6,
   "metadata": {
    "execution": {
     "iopub.execute_input": "2022-11-15T10:23:23.219807Z",
     "iopub.status.busy": "2022-11-15T10:23:23.219497Z",
     "iopub.status.idle": "2022-11-15T13:55:34.148224Z",
     "shell.execute_reply": "2022-11-15T13:55:34.147314Z",
     "shell.execute_reply.started": "2022-11-15T10:23:23.219782Z"
    }
   },
   "outputs": [
    {
     "name": "stderr",
     "output_type": "stream",
     "text": [
      "2022-11-15 10:23:25.402620: I tensorflow/compiler/mlir/mlir_graph_optimization_pass.cc:185] None of the MLIR Optimization Passes are enabled (registered 2)\n"
     ]
    },
    {
     "name": "stdout",
     "output_type": "stream",
     "text": [
      "Epoch 1/2\n",
      "550/550 [==============================] - 6330s 12s/step - loss: 0.7147 - accuracy: 0.8043 - val_loss: 0.2303 - val_accuracy: 0.9253\n",
      "Epoch 2/2\n",
      "550/550 [==============================] - 6344s 12s/step - loss: 0.1791 - accuracy: 0.9432 - val_loss: 0.1592 - val_accuracy: 0.9463\n"
     ]
    }
   ],
   "source": [
    "Model_1.compile(optimizer='Adam',loss='categorical_crossentropy',metrics=['accuracy'])\n",
    "callback = tf.keras.callbacks.EarlyStopping(monitor='loss', patience=3)\n",
    "history =Model_1.fit(train,validation_data=valid,epochs=2,verbose=1,callbacks=[callback])"
   ]
  },
  {
   "cell_type": "code",
   "execution_count": 7,
   "metadata": {
    "execution": {
     "iopub.execute_input": "2022-11-15T13:55:34.150819Z",
     "iopub.status.busy": "2022-11-15T13:55:34.149592Z",
     "iopub.status.idle": "2022-11-15T13:55:34.349632Z",
     "shell.execute_reply": "2022-11-15T13:55:34.348614Z",
     "shell.execute_reply.started": "2022-11-15T13:55:34.150784Z"
    }
   },
   "outputs": [
    {
     "data": {
      "text/plain": [
       "<matplotlib.legend.Legend at 0x7f8dc87c74d0>"
      ]
     },
     "execution_count": 7,
     "metadata": {},
     "output_type": "execute_result"
    },
    {
     "data": {
      "image/png": "[encoded data removed]",
      "text/plain": [
       "<Figure size 720x432 with 1 Axes>"
      ]
     },
     "metadata": {
      "needs_background": "light"
     },
     "output_type": "display_data"
    }
   ],
   "source": [
    "loss =history.history['loss']\n",
    "val_loss =history.history['val_loss']\n",
    "epochs = range(len(loss))\n",
    "fig = plt.figure(figsize=(10,6))\n",
    "plt.plot(epochs,loss,c=\"red\",label=\"Training\")\n",
    "plt.plot(epochs,val_loss,c=\"blue\",label=\"Validation\")\n",
    "plt.xlabel(\"Epochs\")\n",
    "plt.ylabel(\"Loss\")\n",
    "plt.legend()"
   ]
  },
  {
   "cell_type": "code",
   "execution_count": 8,
   "metadata": {
    "execution": {
     "iopub.execute_input": "2022-11-15T13:55:34.351791Z",
     "iopub.status.busy": "2022-11-15T13:55:34.350844Z",
     "iopub.status.idle": "2022-11-15T13:55:34.539632Z",
     "shell.execute_reply": "2022-11-15T13:55:34.538927Z",
     "shell.execute_reply.started": "2022-11-15T13:55:34.351755Z"
    }
   },
   "outputs": [
    {
     "data": {
      "text/plain": [
       "<matplotlib.legend.Legend at 0x7f8dc87de090>"
      ]
     },
     "execution_count": 8,
     "metadata": {},
     "output_type": "execute_result"
    },
    {
     "data": {
      "image/png": "[encoded data removed]",
      "text/plain": [
       "<Figure size 720x432 with 1 Axes>"
      ]
     },
     "metadata": {
      "needs_background": "light"
     },
     "output_type": "display_data"
    }
   ],
   "source": [
    "acc =history.history['accuracy']\n",
    "val_acc =history.history['val_accuracy']\n",
    "epochs = range(len(acc))\n",
    "fig = plt.figure(figsize=(10,6))\n",
    "plt.plot(epochs,acc,c=\"red\",label=\"Training\")\n",
    "plt.plot(epochs,val_acc,c=\"blue\",label=\"Validation\")\n",
    "plt.xlabel(\"Epochs\")\n",
    "plt.ylabel(\"Accuracy\")\n",
    "plt.legend()"
   ]
  },
  {
   "cell_type": "code",
   "execution_count": 9,
   "metadata": {
    "execution": {
     "iopub.execute_input": "2022-11-15T13:55:34.541513Z",
     "iopub.status.busy": "2022-11-15T13:55:34.540623Z",
     "iopub.status.idle": "2022-11-15T13:55:34.833248Z",
     "shell.execute_reply": "2022-11-15T13:55:34.832137Z",
     "shell.execute_reply.started": "2022-11-15T13:55:34.541486Z"
    }
   },
   "outputs": [],
   "source": [
    "Model_1.save(\"model1.h5\")"
   ]
  },
  {
   "cell_type": "code",
   "execution_count": 10,
   "metadata": {
    "execution": {
     "iopub.execute_input": "2022-11-15T13:55:34.835947Z",
     "iopub.status.busy": "2022-11-15T13:55:34.835732Z",
     "iopub.status.idle": "2022-11-15T13:55:35.107238Z",
     "shell.execute_reply": "2022-11-15T13:55:35.106282Z",
     "shell.execute_reply.started": "2022-11-15T13:55:34.835923Z"
    }
   },
   "outputs": [],
   "source": [
    "model_file = Model_1.to_json()\n",
    "with open(\"model.json\", \"w\") as source:\n",
    "    source.write(model_file)\n",
    "Model_1.save_weights(\"model1_weights.h5\")"
   ]
  }
 ],
 "metadata": {
  "kernelspec": {
   "display_name": "Python 3 (ipykernel)",
   "language": "python",
   "name": "python3"
  },
  "language_info": {
   "codemirror_mode": {
    "name": "ipython",
    "version": 3
   },
   "file_extension": ".py",
   "mimetype": "text/x-python",
   "name": "python",
   "nbconvert_exporter": "python",
   "pygments_lexer": "ipython3",
   "version": "3.9.7"
  }
 },
 "nbformat": 4,
 "nbformat_minor": 4
}
